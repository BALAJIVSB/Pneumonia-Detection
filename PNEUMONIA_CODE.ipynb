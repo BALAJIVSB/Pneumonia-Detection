{
 "cells": [
  {
   "cell_type": "code",
   "execution_count": 7,
   "id": "046dde1a-9805-4d88-b139-f2019aefeb74",
   "metadata": {},
   "outputs": [],
   "source": [
    "import torch\n",
    "import torch.nn as nn\n",
    "import torch.nn.functional as F\n",
    "from torchvision import transforms, datasets\n",
    "from torch.utils.data import DataLoader, Subset, random_split\n",
    "import numpy as np\n",
    "from sklearn.metrics import accuracy_score\n",
    "import timm\n",
    "from tqdm import tqdm\n",
    "import matplotlib.pyplot as plt\n",
    "\n",
    "# Configuration for fast training\n",
    "DATA_PATH =r\"C:\\Users\\balaji\\.cache\\kagglehub\\datasets\\paultimothymooney\\chest-xray-pneumonia\\versions\\2\\chest_xray\"\n",
    "BATCH_SIZE = 64  # Increased batch size\n",
    "IMG_SIZE = 224\n",
    "INITIAL_LABELED = 500  # Reduced initial samples\n",
    "ACTIVE_STEPS = 3  # Reduced active learning steps\n",
    "SAMPLES_PER_STEP = 100  # Reduced samples per step\n",
    "EPOCHS = 5  # Reduced epochs\n",
    "MC_ITERATIONS = 5  # Reduced MC iterations\n",
    "\n",
    "# Simplified transform for faster processing\n",
    "transform = transforms.Compose([\n",
    "    transforms.Resize((IMG_SIZE, IMG_SIZE)),\n",
    "    transforms.ToTensor(),\n",
    "    transforms.Normalize(mean=[0.485, 0.456, 0.406], std=[0.229, 0.224, 0.225])\n",
    "])\n",
    "\n",
    "# Load dataset\n",
    "full_dataset = datasets.ImageFolder(DATA_PATH + '/train', transform=transform)\n",
    "test_dataset = datasets.ImageFolder(DATA_PATH + '/test', transform=transform)\n",
    "\n",
    "# Reduced dataset size\n",
    "indices = torch.randperm(len(full_dataset))[:2000]  # Use only 2000 images\n",
    "full_dataset = Subset(full_dataset, indices)\n",
    "\n",
    "# Split into labeled and unlabeled\n",
    "labeled_indices = torch.randperm(len(full_dataset))[:INITIAL_LABELED]\n",
    "unlabeled_indices = list(set(range(len(full_dataset))) - set(labeled_indices))"
   ]
  },
  {
   "cell_type": "code",
   "execution_count": 8,
   "id": "00ede874-628c-4c69-b8fc-03ed69dd9566",
   "metadata": {},
   "outputs": [],
   "source": [
    "class PneumoniaViT(nn.Module):\n",
    "    def __init__(self):\n",
    "        super().__init__()\n",
    "        self.vit = timm.create_model('vit_small_patch16_224', pretrained=True, num_classes=2)\n",
    "        # Enhanced dropout configuration\n",
    "        for block in self.vit.blocks:\n",
    "            block.attn.proj_drop = nn.Dropout(0.2)\n",
    "            block.mlp.dropout = nn.Dropout(0.3)\n",
    "        self.vit.head_drop = nn.Dropout(0.4)\n",
    "        # Add warmup scheduler in training\n",
    "    \n",
    "    def forward(self, x):\n",
    "        return self.vit.head_drop(self.vit(x))\n",
    "\n",
    "# CNN Model (simplified)\n",
    "class PneumoniaCNN(nn.Module):\n",
    "    def __init__(self):\n",
    "        super().__init__()\n",
    "        self.net = nn.Sequential(\n",
    "            nn.Conv2d(3, 32, 3, padding=1),\n",
    "            nn.ReLU(),\n",
    "            nn.MaxPool2d(2),\n",
    "            nn.Conv2d(32, 64, 3, padding=1),\n",
    "            nn.ReLU(),\n",
    "            nn.MaxPool2d(2),\n",
    "            nn.Flatten(),\n",
    "            nn.Linear(64*56*56, 2)\n",
    "        )\n",
    "    \n",
    "    def forward(self, x):\n",
    "        return self.net(x)\n"
   ]
  },
  {
   "cell_type": "code",
   "execution_count": 9,
   "id": "aadffe49-5217-4aff-a6b0-3829d396c928",
   "metadata": {},
   "outputs": [
    {
     "name": "stdout",
     "output_type": "stream",
     "text": [
      "Using device: cuda\n",
      "\n",
      "1. Training CNN Baseline\n"
     ]
    },
    {
     "name": "stderr",
     "output_type": "stream",
     "text": [
      "Epoch 1/5: 100%|█████████████████████████████████████████████████████████████████████████| 8/8 [00:14<00:00,  1.78s/it]\n"
     ]
    },
    {
     "name": "stdout",
     "output_type": "stream",
     "text": [
      "Val Acc: 62.50%\n"
     ]
    },
    {
     "name": "stderr",
     "output_type": "stream",
     "text": [
      "Epoch 2/5: 100%|█████████████████████████████████████████████████████████████████████████| 8/8 [00:14<00:00,  1.80s/it]\n"
     ]
    },
    {
     "name": "stdout",
     "output_type": "stream",
     "text": [
      "Val Acc: 65.87%\n"
     ]
    },
    {
     "name": "stderr",
     "output_type": "stream",
     "text": [
      "Epoch 3/5: 100%|█████████████████████████████████████████████████████████████████████████| 8/8 [00:14<00:00,  1.77s/it]\n"
     ]
    },
    {
     "name": "stdout",
     "output_type": "stream",
     "text": [
      "Val Acc: 73.88%\n"
     ]
    },
    {
     "name": "stderr",
     "output_type": "stream",
     "text": [
      "Epoch 4/5: 100%|█████████████████████████████████████████████████████████████████████████| 8/8 [00:12<00:00,  1.52s/it]\n"
     ]
    },
    {
     "name": "stdout",
     "output_type": "stream",
     "text": [
      "Val Acc: 83.33%\n"
     ]
    },
    {
     "name": "stderr",
     "output_type": "stream",
     "text": [
      "Epoch 5/5: 100%|█████████████████████████████████████████████████████████████████████████| 8/8 [00:05<00:00,  1.36it/s]\n"
     ]
    },
    {
     "name": "stdout",
     "output_type": "stream",
     "text": [
      "Val Acc: 72.92%\n",
      "\n",
      "2. Training ViT Baseline\n"
     ]
    },
    {
     "name": "stderr",
     "output_type": "stream",
     "text": [
      "Epoch 1/5: 100%|█████████████████████████████████████████████████████████████████████████| 8/8 [00:06<00:00,  1.17it/s]\n"
     ]
    },
    {
     "name": "stdout",
     "output_type": "stream",
     "text": [
      "Val Acc: 81.25%\n"
     ]
    },
    {
     "name": "stderr",
     "output_type": "stream",
     "text": [
      "Epoch 2/5: 100%|█████████████████████████████████████████████████████████████████████████| 8/8 [00:06<00:00,  1.32it/s]\n"
     ]
    },
    {
     "name": "stdout",
     "output_type": "stream",
     "text": [
      "Val Acc: 87.02%\n"
     ]
    },
    {
     "name": "stderr",
     "output_type": "stream",
     "text": [
      "Epoch 3/5: 100%|█████████████████████████████████████████████████████████████████████████| 8/8 [00:06<00:00,  1.33it/s]\n"
     ]
    },
    {
     "name": "stdout",
     "output_type": "stream",
     "text": [
      "Val Acc: 87.34%\n"
     ]
    },
    {
     "name": "stderr",
     "output_type": "stream",
     "text": [
      "Epoch 4/5: 100%|█████████████████████████████████████████████████████████████████████████| 8/8 [00:06<00:00,  1.31it/s]\n"
     ]
    },
    {
     "name": "stdout",
     "output_type": "stream",
     "text": [
      "Val Acc: 77.40%\n"
     ]
    },
    {
     "name": "stderr",
     "output_type": "stream",
     "text": [
      "Epoch 5/5: 100%|█████████████████████████████████████████████████████████████████████████| 8/8 [00:06<00:00,  1.31it/s]\n"
     ]
    },
    {
     "name": "stdout",
     "output_type": "stream",
     "text": [
      "Val Acc: 87.98%\n",
      "\n",
      "3. Training ViT with Active Learning\n",
      "\n",
      "Active Learning Step 1\n"
     ]
    },
    {
     "name": "stderr",
     "output_type": "stream",
     "text": [
      "Epoch 1/5: 100%|█████████████████████████████████████████████████████████████████████████| 8/8 [00:06<00:00,  1.28it/s]\n"
     ]
    },
    {
     "name": "stdout",
     "output_type": "stream",
     "text": [
      "Val Acc: 73.08%\n"
     ]
    },
    {
     "name": "stderr",
     "output_type": "stream",
     "text": [
      "Epoch 2/5: 100%|█████████████████████████████████████████████████████████████████████████| 8/8 [00:06<00:00,  1.33it/s]\n"
     ]
    },
    {
     "name": "stdout",
     "output_type": "stream",
     "text": [
      "Val Acc: 74.20%\n"
     ]
    },
    {
     "name": "stderr",
     "output_type": "stream",
     "text": [
      "Epoch 3/5: 100%|█████████████████████████████████████████████████████████████████████████| 8/8 [00:05<00:00,  1.34it/s]\n"
     ]
    },
    {
     "name": "stdout",
     "output_type": "stream",
     "text": [
      "Val Acc: 86.38%\n"
     ]
    },
    {
     "name": "stderr",
     "output_type": "stream",
     "text": [
      "Epoch 4/5: 100%|█████████████████████████████████████████████████████████████████████████| 8/8 [00:06<00:00,  1.30it/s]\n"
     ]
    },
    {
     "name": "stdout",
     "output_type": "stream",
     "text": [
      "Val Acc: 88.14%\n"
     ]
    },
    {
     "name": "stderr",
     "output_type": "stream",
     "text": [
      "Epoch 5/5: 100%|█████████████████████████████████████████████████████████████████████████| 8/8 [00:06<00:00,  1.24it/s]\n"
     ]
    },
    {
     "name": "stdout",
     "output_type": "stream",
     "text": [
      "Val Acc: 87.34%\n",
      "Labeled: 600, Unlabeled: 1900\n",
      "Test Accuracy: 87.34%\n",
      "\n",
      "Active Learning Step 2\n"
     ]
    },
    {
     "name": "stderr",
     "output_type": "stream",
     "text": [
      "Epoch 1/5: 100%|███████████████████████████████████████████████████████████████████████| 10/10 [00:08<00:00,  1.22it/s]\n"
     ]
    },
    {
     "name": "stdout",
     "output_type": "stream",
     "text": [
      "Val Acc: 83.49%\n"
     ]
    },
    {
     "name": "stderr",
     "output_type": "stream",
     "text": [
      "Epoch 2/5: 100%|███████████████████████████████████████████████████████████████████████| 10/10 [00:08<00:00,  1.20it/s]\n"
     ]
    },
    {
     "name": "stdout",
     "output_type": "stream",
     "text": [
      "Val Acc: 89.10%\n"
     ]
    },
    {
     "name": "stderr",
     "output_type": "stream",
     "text": [
      "Epoch 3/5: 100%|███████████████████████████████████████████████████████████████████████| 10/10 [00:08<00:00,  1.21it/s]\n"
     ]
    },
    {
     "name": "stdout",
     "output_type": "stream",
     "text": [
      "Val Acc: 88.14%\n"
     ]
    },
    {
     "name": "stderr",
     "output_type": "stream",
     "text": [
      "Epoch 4/5: 100%|███████████████████████████████████████████████████████████████████████| 10/10 [00:08<00:00,  1.20it/s]\n"
     ]
    },
    {
     "name": "stdout",
     "output_type": "stream",
     "text": [
      "Val Acc: 89.26%\n"
     ]
    },
    {
     "name": "stderr",
     "output_type": "stream",
     "text": [
      "Epoch 5/5: 100%|███████████████████████████████████████████████████████████████████████| 10/10 [00:08<00:00,  1.18it/s]\n"
     ]
    },
    {
     "name": "stdout",
     "output_type": "stream",
     "text": [
      "Val Acc: 86.38%\n",
      "Labeled: 700, Unlabeled: 1800\n",
      "Test Accuracy: 86.38%\n",
      "\n",
      "Active Learning Step 3\n"
     ]
    },
    {
     "name": "stderr",
     "output_type": "stream",
     "text": [
      "Epoch 1/5: 100%|███████████████████████████████████████████████████████████████████████| 11/11 [00:09<00:00,  1.16it/s]\n"
     ]
    },
    {
     "name": "stdout",
     "output_type": "stream",
     "text": [
      "Val Acc: 89.10%\n"
     ]
    },
    {
     "name": "stderr",
     "output_type": "stream",
     "text": [
      "Epoch 2/5: 100%|███████████████████████████████████████████████████████████████████████| 11/11 [00:09<00:00,  1.13it/s]\n"
     ]
    },
    {
     "name": "stdout",
     "output_type": "stream",
     "text": [
      "Val Acc: 89.58%\n"
     ]
    },
    {
     "name": "stderr",
     "output_type": "stream",
     "text": [
      "Epoch 3/5: 100%|███████████████████████████████████████████████████████████████████████| 11/11 [00:09<00:00,  1.15it/s]\n"
     ]
    },
    {
     "name": "stdout",
     "output_type": "stream",
     "text": [
      "Val Acc: 90.06%\n"
     ]
    },
    {
     "name": "stderr",
     "output_type": "stream",
     "text": [
      "Epoch 4/5: 100%|███████████████████████████████████████████████████████████████████████| 11/11 [00:09<00:00,  1.15it/s]\n"
     ]
    },
    {
     "name": "stdout",
     "output_type": "stream",
     "text": [
      "Val Acc: 88.46%\n"
     ]
    },
    {
     "name": "stderr",
     "output_type": "stream",
     "text": [
      "Epoch 5/5: 100%|███████████████████████████████████████████████████████████████████████| 11/11 [00:10<00:00,  1.10it/s]\n"
     ]
    },
    {
     "name": "stdout",
     "output_type": "stream",
     "text": [
      "Val Acc: 89.26%\n",
      "Labeled: 800, Unlabeled: 1700\n",
      "Test Accuracy: 89.26%\n",
      "\n",
      "=== Final Results ===\n",
      "CNN Baseline Accuracy: 72.92%\n",
      "ViT Baseline Accuracy: 87.98%\n",
      "ViT Active Learning Accuracy: 89.26%\n"
     ]
    }
   ],
   "source": [
    "def train_model(model, train_loader, val_loader, model_type='cnn'):\n",
    "    optimizer = torch.optim.AdamW(model.parameters(), lr=1e-4 if model_type == 'vit' else 1e-3)\n",
    "    criterion = nn.CrossEntropyLoss()\n",
    "    \n",
    "    # Warmup scheduler for ViT\n",
    "    if model_type == 'vit':\n",
    "        scheduler = torch.optim.lr_scheduler.LambdaLR(optimizer, \n",
    "            lambda epoch: min(1.0, (epoch + 1) / 3))  # 3-epoch warmup\n",
    "    else:\n",
    "        scheduler = None\n",
    "    \n",
    "    for epoch in range(EPOCHS):\n",
    "        model.train()\n",
    "        for images, labels in tqdm(train_loader, desc=f'Epoch {epoch+1}/{EPOCHS}'):\n",
    "            images, labels = images.to(device), labels.to(device)\n",
    "            optimizer.zero_grad()\n",
    "            outputs = model(images)\n",
    "            loss = criterion(outputs, labels)\n",
    "            loss.backward()\n",
    "            optimizer.step()\n",
    "        \n",
    "        if scheduler:\n",
    "            scheduler.step()\n",
    "        \n",
    "        # Quick validation\n",
    "        val_acc = evaluate(model, val_loader)['accuracy']\n",
    "        print(f\"Val Acc: {val_acc:.2%}\")\n",
    "    \n",
    "    return model\n",
    "\n",
    "def evaluate(model, loader):\n",
    "    model.eval()\n",
    "    correct, total = 0, 0\n",
    "    with torch.no_grad():\n",
    "        for images, labels in loader:\n",
    "            images, labels = images.to(device), labels.to(device)\n",
    "            outputs = model(images)\n",
    "            _, preds = torch.max(outputs, 1)\n",
    "            total += labels.size(0)\n",
    "            correct += (preds == labels).sum().item()\n",
    "    return {'accuracy': correct / total}\n",
    "\n",
    "def mc_dropout_predict(model, loader):\n",
    "    model.train()\n",
    "    probs = []\n",
    "    with torch.no_grad():\n",
    "        for _ in range(MC_ITERATIONS):\n",
    "            batch_probs = []\n",
    "            for images, _ in loader:\n",
    "                images = images.to(device)\n",
    "                outputs = model(images)\n",
    "                batch_probs.append(F.softmax(outputs, dim=1).cpu())\n",
    "            probs.append(torch.cat(batch_probs))\n",
    "    return torch.stack(probs)\n",
    "\n",
    "def active_learning_step(model, labeled, unlabeled):\n",
    "    # Train\n",
    "    train_loader = DataLoader(labeled, batch_size=BATCH_SIZE, shuffle=True)\n",
    "    test_loader = DataLoader(test_dataset, batch_size=BATCH_SIZE)\n",
    "    model = train_model(model, train_loader, test_loader, 'vit')\n",
    "    \n",
    "    # Get uncertainties\n",
    "    unlabeled_loader = DataLoader(unlabeled, batch_size=BATCH_SIZE)\n",
    "    probs = mc_dropout_predict(model, unlabeled_loader)\n",
    "    uncertainties = probs.std(dim=0).mean(dim=1)\n",
    "    \n",
    "    # Select uncertain samples\n",
    "    idx = np.argsort(-uncertainties)[:SAMPLES_PER_STEP]\n",
    "    return idx\n",
    "\n",
    "def run_experiment():\n",
    "    # CNN Baseline\n",
    "    print(\"\\n1. Training CNN Baseline\")\n",
    "    cnn = PneumoniaCNN().to(device)\n",
    "    train_loader = DataLoader(Subset(full_dataset, labeled_indices), batch_size=BATCH_SIZE, shuffle=True)\n",
    "    test_loader = DataLoader(test_dataset, batch_size=BATCH_SIZE)\n",
    "    cnn = train_model(cnn, train_loader, test_loader, 'cnn')\n",
    "    cnn_acc = evaluate(cnn, test_loader)['accuracy']\n",
    "    \n",
    "    # ViT Baseline\n",
    "    print(\"\\n2. Training ViT Baseline\")\n",
    "    vit = PneumoniaViT().to(device)\n",
    "    vit = train_model(vit, train_loader, test_loader, 'vit')\n",
    "    vit_acc = evaluate(vit, test_loader)['accuracy']\n",
    "    \n",
    "    # ViT with Active Learning\n",
    "    print(\"\\n3. Training ViT with Active Learning\")\n",
    "    vit_active = PneumoniaViT().to(device)\n",
    "    current_labeled = Subset(full_dataset, labeled_indices)\n",
    "    current_unlabeled = Subset(full_dataset, unlabeled_indices)\n",
    "    \n",
    "    active_accs = []\n",
    "    for step in range(ACTIVE_STEPS):\n",
    "        print(f\"\\nActive Learning Step {step+1}\")\n",
    "        idx = active_learning_step(vit_active, current_labeled, current_unlabeled)\n",
    "        \n",
    "        # Update datasets\n",
    "        new_labeled = Subset(current_unlabeled.dataset, [current_unlabeled.indices[i] for i in idx])\n",
    "        current_labeled = torch.utils.data.ConcatDataset([current_labeled, new_labeled])\n",
    "        remaining = [i for i in range(len(current_unlabeled)) if i not in idx]\n",
    "        current_unlabeled = Subset(current_unlabeled.dataset, [current_unlabeled.indices[i] for i in remaining])\n",
    "        \n",
    "        # Evaluate\n",
    "        acc = evaluate(vit_active, test_loader)['accuracy']\n",
    "        active_accs.append(acc)\n",
    "        print(f\"Labeled: {len(current_labeled)}, Unlabeled: {len(current_unlabeled)}\")\n",
    "        print(f\"Test Accuracy: {acc:.2%}\")\n",
    "    \n",
    "    # Results\n",
    "    print(\"\\n=== Final Results ===\")\n",
    "    print(f\"CNN Baseline Accuracy: {cnn_acc:.2%}\")\n",
    "    print(f\"ViT Baseline Accuracy: {vit_acc:.2%}\")\n",
    "    print(f\"ViT Active Learning Accuracy: {active_accs[-1]:.2%}\")\n",
    "    \n",
    "    # Plot\n",
    "    plt.figure(figsize=(8, 4))\n",
    "    plt.bar(['CNN', 'ViT', 'ViT+AL'], [cnn_acc, vit_acc, active_accs[-1]])\n",
    "    plt.ylabel('Accuracy')\n",
    "    plt.title('Model Comparison')\n",
    "    plt.savefig('results.png', bbox_inches='tight')\n",
    "    plt.close()\n",
    "\n",
    "if __name__ == \"__main__\":\n",
    "    device = torch.device('cuda' if torch.cuda.is_available() else 'cpu')\n",
    "    print(f\"Using device: {device}\")\n",
    "    run_experiment()"
   ]
  },
  {
   "cell_type": "code",
   "execution_count": null,
   "id": "35acfa32-2691-4ec7-bede-bfb76a011634",
   "metadata": {},
   "outputs": [],
   "source": []
  },
  {
   "cell_type": "code",
   "execution_count": null,
   "id": "6007fa3f-cd46-4a51-a937-211a76b4d77d",
   "metadata": {},
   "outputs": [],
   "source": []
  },
  {
   "cell_type": "code",
   "execution_count": null,
   "id": "f42cf44b-3c65-47fb-b323-db09694cf6d0",
   "metadata": {},
   "outputs": [],
   "source": []
  },
  {
   "cell_type": "code",
   "execution_count": null,
   "id": "8f54008c-a3ce-4d8e-9f33-29eca143f2cf",
   "metadata": {},
   "outputs": [],
   "source": []
  },
  {
   "cell_type": "code",
   "execution_count": null,
   "id": "3d0525f2-1a7b-4db5-96a1-f54315eb9175",
   "metadata": {},
   "outputs": [],
   "source": []
  },
  {
   "cell_type": "code",
   "execution_count": null,
   "id": "b58b714c-50fc-42df-9ec5-998e34ff4fbb",
   "metadata": {},
   "outputs": [],
   "source": []
  }
 ],
 "metadata": {
  "kernelspec": {
   "display_name": "Python 3 (ipykernel)",
   "language": "python",
   "name": "python3"
  },
  "language_info": {
   "codemirror_mode": {
    "name": "ipython",
    "version": 3
   },
   "file_extension": ".py",
   "mimetype": "text/x-python",
   "name": "python",
   "nbconvert_exporter": "python",
   "pygments_lexer": "ipython3",
   "version": "3.13.2"
  }
 },
 "nbformat": 4,
 "nbformat_minor": 5
}
